{
 "cells": [
  {
   "cell_type": "code",
   "execution_count": null,
   "id": "78b62798",
   "metadata": {},
   "outputs": [],
   "source": []
  },
  {
   "cell_type": "code",
   "execution_count": 35,
   "id": "e1327962",
   "metadata": {},
   "outputs": [],
   "source": []
  },
  {
   "cell_type": "code",
   "execution_count": 22,
   "id": "62ac55de",
   "metadata": {},
   "outputs": [
    {
     "name": "stdout",
     "output_type": "stream",
     "text": [
      "Force user logoff how long after time expires?:       Never\r\n",
      "Minimum password age (days):                          0\r\n",
      "Maximum password age (days):                          42\r\n",
      "Minimum password length:                              0\r\n",
      "Length of password history maintained:                None\r\n",
      "Lockout threshold:                                    Never\r\n",
      "Lockout duration (minutes):                           30\r\n",
      "Lockout observation window (minutes):                 30\r\n",
      "Computer role:                                        WORKSTATION\r\n",
      "The command completed successfully.\r\n",
      "\r\n",
      "\n"
     ]
    }
   ],
   "source": [
    "import os, subprocess, re\n",
    "def get_account_info():\n",
    "    result = subprocess.run('net accounts', stdout=subprocess.PIPE)\n",
    "    return result.stdout\n",
    "\n",
    "account_info = get_account_info().decode('utf-8')\n",
    "print(account_info)"
   ]
  },
  {
   "cell_type": "code",
   "execution_count": 32,
   "id": "e75d93de",
   "metadata": {},
   "outputs": [
    {
     "data": {
      "text/plain": [
       "['Never', '0', '42', '0', 'None', 'Never', '30', '30', 'WORKSTATION']"
      ]
     },
     "execution_count": 32,
     "metadata": {},
     "output_type": "execute_result"
    }
   ],
   "source": [
    "matches = re.findall(r\":\\s+(.*)\\r\", account_info)\n",
    "matches"
   ]
  },
  {
   "cell_type": "code",
   "execution_count": 34,
   "id": "a88784d6",
   "metadata": {},
   "outputs": [],
   "source": [
    "max_pass_age = matches[2]\n",
    "min_pass_len = matches[3]\n",
    "lockout_threshold = matches[5]\n",
    "lockout_duration = matches[6]"
   ]
  },
  {
   "cell_type": "code",
   "execution_count": 74,
   "id": "af1e74d9",
   "metadata": {},
   "outputs": [
    {
     "name": "stdout",
     "output_type": "stream",
     "text": [
      "User Score: \t5/22\t22.73%\n",
      "\n",
      "Positive Security Practices\n",
      "\n",
      "+10\tMaximum Password Age - Your maximum password age is set to between 1 and 90 days. The best practice is to set this value between 30 and 90 days to prevent using an insecure or compromised password for an extended amount of time.\n",
      "\tRead more about the importance password age here: https://learn.microsoft.com/en-us/windows/security/threat-protection/security-policy-settings/maximum-password-age\n",
      "\n",
      "\n",
      "\n",
      "Bad Security Practices\n",
      "\n",
      "-7\tMinimum Password Length - Your minimum password length policy is either disabled or set to a value less than 7 characters. Best practice is to use a password with a length of 8 or more characters to prevent cyber attacks, the longer the better.\n",
      "\tGo here to learn how to change this policy on your computer: https://learn.microsoft.com/en-us/windows/security/threat-protection/security-policy-settings/minimum-password-length\n",
      "\n",
      "-5\tLockout threshold - Your account lockout threshold policy is set to never, meaning an attacker could guess passwords indefinitiely until they find a password that will let them log into your machine. Best practice is to use a lockout threshold of 10, but there is no one-size-fits-all solution.\n",
      "\tGo here to learn how to change this policy on your computer: https://learn.microsoft.com/en-us/windows/security/threat-protection/security-policy-settings/account-lockout-threshold\n",
      "\n",
      "\n"
     ]
    }
   ],
   "source": [
    "max_score = 0\n",
    "user_score = 0\n",
    "\n",
    "pros_outmsg = 'Positive Security Practices\\n\\n'\n",
    "cons_outmsg = 'Bad Security Practices\\n\\n'\n",
    "\n",
    "max_score += 5\n",
    "if (0 < int(max_pass_age) <= 90):\n",
    "    user_score += 5\n",
    "    pros_outmsg = pros_outmsg + '+10\\tMaximum Password Age - Your maximum password age is set to between 1 and 90 days. The best practice is to set this value between 30 and 90 days to prevent using an insecure or compromised password for an extended amount of time.\\n\\tRead more about the importance password age here: https://learn.microsoft.com/en-us/windows/security/threat-protection/security-policy-settings/maximum-password-age\\n\\n'\n",
    "elif max_pass_age == 'UNLIMITED':\n",
    "    cons_outmsg = cons_outmsg + '-10\\tMaximum Password Age - Your maximum password age is set to either a vaule less than 1 or greater than  90 days. The best practice is to set this value between 30 and 90 days to prevent using an insecure or compromised password for an extended amount of time.\\n\\tGo here to learn how to change this policy on your computer: https://learn.microsoft.com/en-us/windows/security/threat-protection/security-policy-settings/maximum-password-age\\n\\n'\n",
    "else:\n",
    "    cons_outmsg = cons_outmsg + '-10\\tMaximum Password Age - Your maximum password age is set to either a vaule less than 1 or greater than  90 days. The best practice is to set this value between 30 and 90 days to prevent using an insecure or compromised password for an extended amount of time.\\n\\tGo here to learn how to change this policy on your computer: https://learn.microsoft.com/en-us/windows/security/threat-protection/security-policy-settings/maximum-password-age\\n\\n'\n",
    "\n",
    "max_score += 7\n",
    "if int(min_pass_len) >= 8:\n",
    "    pass_len_score = int(min_pass_len)-7\n",
    "    user_score += pass_len_score\n",
    "    pros_outmsg = pros_outmsg + '+'+str(pass_len_score)+'\\tMinimum Password Length - Your minimum password length policy is set to a value of 8 characters or more. Best practice is to use a password with a length of 8 or more characters to prevent cyber attacks, the longer the better.\\n\\tRead more about password length policy and best Practice here: https://learn.microsoft.com/en-us/windows/security/threat-protection/security-policy-settings/minimum-password-length\\n\\n'\n",
    "else:\n",
    "    cons_outmsg = cons_outmsg + '-7\\tMinimum Password Length - Your minimum password length policy is either disabled or set to a value less than 7 characters. Best practice is to use a password with a length of 8 or more characters to prevent cyber attacks, the longer the better.\\n\\tGo here to learn how to change this policy on your computer: https://learn.microsoft.com/en-us/windows/security/threat-protection/security-policy-settings/minimum-password-length\\n\\n'\n",
    "\n",
    "    \n",
    "max_score += 10\n",
    "if lockout_threshold == 'Never':\n",
    "    cons_outmsg = cons_outmsg + '-5\\tLockout threshold - Your account lockout threshold policy is set to never, meaning an attacker could guess passwords indefinitiely until they find a password that will let them log into your machine. Best practice is to use a lockout threshold of 10, but there is no one-size-fits-all solution.\\n\\tGo here to learn how to change this policy on your computer: https://learn.microsoft.com/en-us/windows/security/threat-protection/security-policy-settings/account-lockout-threshold\\n\\n'\n",
    "elif (0 < int(lockout_threshold) <= 20):\n",
    "    user_score += 5\n",
    "    pros_outmsg = pros_outmsg + '+5\\tLockout threshold - Your account lockout threshold policy is set to a value between 1 and 20, meaning that an attacker will be locked our for some period of time if they repeatedly, incorrectly guess a login. Best practice is to use a lockout threshold of 10, but there is no one-size-fits-all solution.\\n\\tRead more about Account Lockout Threshold Policy here: https://learn.microsoft.com/en-us/windows/security/threat-protection/security-policy-settings/account-lockout-threshold\\n\\n'\n",
    "    if int(lockout_duration) == 0:\n",
    "        user_score += 5\n",
    "        pros_outmsg = pros_outmsg + '+5\\tLockout Duration - Your account lockout duration policy is set to 0, meaning that once the lockout threshold has been met, an account will be locked out until an admin unlocks it.\\n\\tRead more about Account Lockout Duration Policy here: https://learn.microsoft.com/en-us/windows/security/threat-protection/security-policy-settings/account-lockout-duration\\n\\n'\n",
    "    elif 0 < int(lockout_duration) < 15:\n",
    "        user_score += 2\n",
    "        pros_outmsg = pros_outmsg + '+2\\tLockout Duration - Your account lockout duration policy is set to a value between 1 and 15, meaning that once the lockout threshold has been met, an account will be locked out from 1 to 15 minutes depending on the policy. Best practice is to set this value to 15 minutes.\\n\\tLearn how to change this policy here Policy here: https://learn.microsoft.com/en-us/windows/security/threat-protection/security-policy-settings/account-lockout-duration\\b\\b'\n",
    "    elif int(lockout_duration) >= 15:\n",
    "        user_score += 5\n",
    "        pros_outmsg = pros_outmsg + '+2\\tLockout Duration - Your account lockout duration policy is set to a value of 15 minutes or greater, meaning that once the lockout threshold has been met, an account will be locked out for 15+ minutes depending on the policy. Best practice is to set this value to at least 15 minutes.\\n\\tRead more about Account Lockout Duration policy here: https://learn.microsoft.com/en-us/windows/security/threat-protection/security-policy-settings/account-lockout-duration\\n\\n'\n",
    "elif (int(lockout_threshold) > 20):\n",
    "    if int(lockout_duration) == 0:\n",
    "        user_score += 5\n",
    "        pros_outmsg = pros_outmsg + '+5\\tLockout Duration - Your account lockout duration policy is set to 0, meaning that once the lockout threshold has been met, an account will be locked out until an admin unlocks it.\\n\\tRead more about Account Lockout Duration Policy here: https://learn.microsoft.com/en-us/windows/security/threat-protection/security-policy-settings/account-lockout-duration\\n\\n'\n",
    "    elif 0 < int(lockout_duration) < 15:\n",
    "        user_score += 2\n",
    "        pros_outmsg = pros_outmsg + '+2\\tLockout Duration - Your account lockout duration policy is set to a value between 1 and 15, meaning that once the lockout threshold has been met, an account will be locked out from 1 to 15 minutes depending on the policy. Best practice is to set this value to 15 minutes.\\n\\tLearn how to change this policy here Policy here: https://learn.microsoft.com/en-us/windows/security/threat-protection/security-policy-settings/account-lockout-duration\\b\\b'\n",
    "    elif int(lockout_duration) >= 15:\n",
    "        user_score += 5\n",
    "        pros_outmsg = pros_outmsg + '+2\\tLockout Duration - Your account lockout duration policy is set to a value of 15 minutes or greater, meaning that once the lockout threshold has been met, an account will be locked out for 15+ minutes depending on the policy. Best practice is to set this value to at least 15 minutes.\\n\\tRead more about Account Lockout Duration policy here: https://learn.microsoft.com/en-us/windows/security/threat-protection/security-policy-settings/account-lockout-duration\\n\\n'\n",
    "        \n",
    "        \n",
    "else:\n",
    "    cons_outmsg = cons_outmsg + '-5\\tLockout threshold - Your account lockout threshold policy is set to a value greater than 20, meaning that an attacker will be locked our for some period of time if they incorrectly the password to your system 21 or more times. Best practice is to use a lockout threshold of 10, but there is no one-size-fits-all solution.\\n\\tGo here to learn how to change this policy on your computer: https://learn.microsoft.com/en-us/windows/security/threat-protection/security-policy-settings/account-lockout-threshold\\n\\n'\n",
    "\n",
    "final_outmsg = \"User Score: \\t{0}/{1}\\t{2}%\\n\\n{3}\\n\\n{4}\".format(user_score, max_score, round((user_score/max_score)*100, 2), pros_outmsg, cons_outmsg)\n",
    "print(final_outmsg)\n"
   ]
  },
  {
   "cell_type": "code",
   "execution_count": null,
   "id": "fc80e4b6",
   "metadata": {},
   "outputs": [],
   "source": []
  },
  {
   "cell_type": "code",
   "execution_count": 79,
   "id": "b689211f",
   "metadata": {},
   "outputs": [
    {
     "name": "stdout",
     "output_type": "stream",
     "text": [
      "True True True True False True\n",
      "User Score: \t40/40\t100.0%\n",
      "\n",
      "Positive Security Practices\n",
      "\n",
      "+10\tWindows Security: core protections - Windows Security appears to be active and running with anti-malware, anti-spyware, and anti-virus all enabled. This is best practice and will help prevent your computer and data from becoming compromised.\n",
      "\tRead more about Windows Security here: https://support.microsoft.com/en-us/windows/stay-protected-with-windows-security-2ae0363d-0ada-c064-8b56-6a39afb6a963\n",
      "\n",
      "+10\tWindows Security: Behavioral Monitoring - Windows Security appears to be active and running with behavioral monitoring all enabled. This is best practice and will help prevent your computer and data from becoming compromised.\n",
      "\tRead more about why behavioral monitoring is important here:  https://learn.microsoft.com/en-us/microsoft-365/security/defender-endpoint/behavioral-blocking-containment?view=o365-worldwide\n",
      "\n",
      "+10\tWindows Security: Real-Time Protection - Windows Security appears to be active and running with real-time protection enabled. This is best practice and means that Windows Security is working to keep your computer and your data safe.\n",
      "\tRead more about why real-time protection is important here:  https://www.cyber.gov.au/acsc/view-all-content/guidance/turn-real-time-protection-windows-10\n",
      "\n",
      "+10\tWindows Security: Update - Windows Security, its signatures, and its detections are all up to date. This is best practice and means that Windows Security is working to keep your computer and your data safe by using the more current information it has access to.\n",
      "\tRead more about why it is important to keep Windows Security up-to-date:  https://ecmanagedit.com/importance-windows-updates/\n",
      "\n",
      "\n",
      "\n",
      "Bad Security Practices\n",
      "\n",
      "\n"
     ]
    }
   ],
   "source": [
    "max_score = 0\n",
    "user_score = 0\n",
    "\n",
    "pros_outmsg = 'Positive Security Practices\\n\\n'\n",
    "cons_outmsg = 'Bad Security Practices\\n\\n'\n",
    "\n",
    "def get_defender_info():\n",
    "    result = subprocess.run('powershell -command \"Get-MpComputerStatus\"', stdout=subprocess.PIPE)\n",
    "    result = result.stdout.decode('utf-8')\n",
    "    values = re.findall(r\":\\s+(.*)\\r\", result)\n",
    "    return values\n",
    "# print(values)\n",
    "# c = 0\n",
    "# for c in range(len(values)):\n",
    "#     print(c, values[c])\n",
    "defender_vals = get_defender_info()\n",
    "anti_mal = defender_vals[3]\n",
    "anti_spy = defender_vals[5]\n",
    "anti_virus = defender_vals[9]\n",
    "behavioral = defender_vals[13]\n",
    "out_of_date = defender_vals[16]\n",
    "realtime = defender_vals[41]\n",
    "\n",
    "print(anti_mal, anti_spy, anti_virus, behavioral, out_of_date, realtime)\n",
    "max_score += 10\n",
    "if (anti_mal == 'True') and (anti_spy == 'True') and (anti_virus == 'True'):\n",
    "    user_score += 10\n",
    "    pros_outmsg = pros_outmsg + '+10\\tWindows Security: core protections - Windows Security appears to be active and running with anti-malware, anti-spyware, and anti-virus all enabled. This is best practice and will help prevent your computer and data from becoming compromised.\\n\\tRead more about Windows Security here: https://support.microsoft.com/en-us/windows/stay-protected-with-windows-security-2ae0363d-0ada-c064-8b56-6a39afb6a963\\n\\n'\n",
    "else:\n",
    "    cons_outmsg = cons_outmsg + '-10\\tWindows Security: Anti-Malware - Microsoft Security is either not running, not enabled, or running without one or more core protections being active. Running Microsoft Defender with the anti-malware, anti-spyware, and anti-virus functionalities enabled will help prevent malware threats from compromising your computer.\\n\\tGo here to learn how to configure Windows Security with anti-malware: https://support.microsoft.com/en-us/windows/virus-threat-protection-in-windows-security-1362f4cd-d71a-b52a-0b66-c2820032b65e\\n\\n'\n",
    "\n",
    "max_score += 10   \n",
    "if behavioral == 'True':\n",
    "    user_score += 10\n",
    "    pros_outmsg = pros_outmsg + '+10\\tWindows Security: Behavioral Monitoring - Windows Security appears to be active and running with behavioral monitoring all enabled. This is best practice and will help prevent your computer and data from becoming compromised.\\n\\tRead more about why behavioral monitoring is important here:  https://learn.microsoft.com/en-us/microsoft-365/security/defender-endpoint/behavioral-blocking-containment?view=o365-worldwide\\n\\n'\n",
    "else:\n",
    "    cons_outmsg = cons_outmsg + '-10\\tWindows Security: Behavioral Monitoring - Microsoft Defender does not have behavioral monitoring enabled, meanining that your system is vulnerable to attack / compromise from fileless malware, human-operated attacks, and highly-advanced malware threats. Running Windows Security with behavioral monitoring enabled will help prevent these types of malware from compromising your computer and data.\\n\\tGo here to learn how to configure Windows Security with behavioral monitoring:  https://learn.microsoft.com/en-us/microsoft-365/security/defender-endpoint/configure-real-time-protection-microsoft-defender-antivirus?view=o365-worldwide\\n\\n'\n",
    "\n",
    "max_score += 10\n",
    "if realtime == 'True':\n",
    "    user_score += 10\n",
    "    pros_outmsg = pros_outmsg + '+10\\tWindows Security: Real-Time Protection - Windows Security appears to be active and running with real-time protection enabled. This is best practice and means that Windows Security is working to keep your computer and your data safe.\\n\\tRead more about why real-time protection is important here:  https://www.cyber.gov.au/acsc/view-all-content/guidance/turn-real-time-protection-windows-10\\n\\n'\n",
    "else:\n",
    "    cons_outmsg = cons_outmsg + '-10\\tWindows Security: Real-Time Protection - Windows Security does not have real-time protection enabled, this will leave you exposed to malicious files and threats between anti-virus / anti-malware scans. Running Windows Security with real-time protection is best practice to keep your computer and your data safe.\\n\\tGo here to learn how to configure Windows Security with always-on protection:  https://learn.microsoft.com/en-us/microsoft-365/security/defender-endpoint/configure-real-time-protection-microsoft-defender-antivirus?view=o365-worldwide\\n\\n'\n",
    "\n",
    "max_score += 10\n",
    "if out_of_date == 'False':\n",
    "    user_score += 10\n",
    "    pros_outmsg = pros_outmsg + '+10\\tWindows Security: Update - Windows Security, its signatures, and its detections are all up to date. This is best practice and means that Windows Security is working to keep your computer and your data safe by using the more current information it has access to.\\n\\tRead more about why it is important to keep Windows Security up-to-date:  https://ecmanagedit.com/importance-windows-updates/\\n\\n'\n",
    "else:\n",
    "    cons_outmsg = cons_outmsg + \"-10\\tWindows Security: Update - Windows Security, its signatures, and/or it's detections are out of date and need to be updated. Update Windows Security immediately to ensure that your computer and data remain as safe as possible.\\n\\tGo here to learn how to update Windows Security:  https://support.microsoft.com/en-us/windows/update-windows-security-signatures-726d462d-b2a8-5bb2-8a9e-5d5871b06e05\\n\\n\"\n",
    "   \n",
    "    \n",
    "# print(result)\n",
    "final_outmsg = \"User Score: \\t{0}/{1}\\t{2}%\\n\\n{3}\\n\\n{4}\".format(user_score, max_score, round((user_score/max_score)*100, 2), pros_outmsg, cons_outmsg)\n",
    "print(final_outmsg)"
   ]
  },
  {
   "cell_type": "code",
   "execution_count": 2,
   "id": "2fad0b58",
   "metadata": {},
   "outputs": [
    {
     "name": "stdout",
     "output_type": "stream",
     "text": [
      "20\n",
      "21\n",
      "22\n",
      "23\n",
      "25\n",
      "53\n",
      "80\n",
      "110\n",
      "111\n",
      "135\n",
      "137\n",
      "139\n",
      "143\n",
      "443\n",
      "445\n",
      "993\n",
      "995\n",
      "1723\n",
      "3306\n",
      "3389\n",
      "5900\n",
      "8080\n"
     ]
    }
   ],
   "source": [
    "import socket, sys\n",
    "\n",
    "open_ports = []\n",
    "closed_ports = []\n",
    "target = '127.0.0.1'\n",
    "# for port in range(1,65535):\n",
    "port_range = [20, 21, 22, 23, 25, 53, 80, 110, 111, 135, 137, 139, 143, 443, 445, 993, 995, 1723, 3306, 3389, 5900, 8080]\n",
    "# port_range = [*range(1,65535)]\n",
    "with socket.socket(socket.AF_INET, socket.SOCK_STREAM) as s:\n",
    "#     socket.setdefaulttimeout(1)\n",
    "    for i in port_range:\n",
    "        if s.connect_ex((target, i)) == 0:\n",
    "            open_ports.append(i)\n",
    "        else:\n",
    "            closed_ports.append(i)\n",
    "s.close()"
   ]
  },
  {
   "cell_type": "code",
   "execution_count": 3,
   "id": "e62b5b25",
   "metadata": {},
   "outputs": [
    {
     "data": {
      "text/plain": [
       "[135]"
      ]
     },
     "execution_count": 3,
     "metadata": {},
     "output_type": "execute_result"
    }
   ],
   "source": [
    "open_ports"
   ]
  },
  {
   "cell_type": "code",
   "execution_count": 13,
   "id": "d9bff3bd",
   "metadata": {},
   "outputs": [
    {
     "name": "stdout",
     "output_type": "stream",
     "text": [
      "Ports [19, 20, 21, 22, 23, 24, 25, 26, 27, 28, 29, 30, 31, 32, 33, 34, 35, 36, 37, 38, 39, 40, 41, 42, 43, 44, 45, 46, 47, 48, 49, 50, 51, 52, 53, 54, 55, 56, 57, 58, 59, 60, 61, 62, 63, 64, 65, 66, 67, 68, 69, 70, 71, 72, 73, 74, 75, 76, 77, 78, 79, 80, 81, 82, 83, 84, 85, 86, 87, 88, 89, 90, 91, 92, 93, 94, 95, 96, 97, 98, 99, 100, 101, 102, 103, 104, 105, 106, 107, 108, 109, 110, 111, 112, 113, 114, 115, 116, 117, 118, 119, 120, 121, 122, 123, 124, 125, 126, 127, 128, 129, 130, 131, 132, 133, 134, 136, 137, 138, 139, 140, 141, 142, 143, 144, 145, 146, 147, 148, 149, 150, 151, 152, 153, 154, 155, 156, 157, 158, 159, 160, 161, 162, 163, 164, 165, 166, 167, 168, 169, 170, 171, 172, 173, 174, 175, 176, 177, 178, 179, 180, 181, 182, 183, 184, 185, 186, 187, 188, 189, 190, 191, 192, 193, 194, 195, 196, 197, 198, 199, 200, 201, 202, 203, 204, 205, 206, 207, 208, 209, 210, 211, 212, 213, 214, 215, 216, 217, 218, 219, 220, 221, 222, 223, 224, 225, 226, 227, 228, 229, 230, 231, 232, 233, 234, 235, 236, 237, 238, 239, 240, 241, 242, 243, 244, 245, 246, 247, 248, 249, 250, 251, 252, 253, 254, 255, 256, 257, 258, 259, 260, 261, 262, 263, 264, 265, 266, 267, 268, 269, 270, 271, 272, 273, 274, 275, 276, 277, 278, 279, 280, 281, 282, 283, 284, 285, 286, 287, 288, 289, 290, 291, 292, 293, 294, 295, 296, 297, 298, 299, 300, 301, 302, 303, 304, 305, 306, 307, 308, 309, 310, 311, 312, 313, 314, 315, 316, 317, 318, 319, 320, 321, 322, 323, 324, 325, 326, 327, 328, 329, 330, 331, 332, 333, 334, 335, 336, 337, 338, 339, 340, 341, 342, 343, 344, 345, 346, 347, 348, 349, 350, 351, 352, 353, 354, 355, 356, 357, 358, 359, 360, 361, 362, 363, 364, 365, 366, 367, 368, 369, 370, 371, 372, 373, 374, 375, 376, 377, 378, 379, 380, 381, 382, 383, 384, 385, 386, 387, 388, 389, 390, 391, 392, 393, 394, 395, 396, 397, 398, 399, 400, 401, 402, 403, 404, 405, 406, 407, 408, 409, 410, 411, 412, 413, 414, 415, 416, 417, 418, 419, 420, 421, 422, 423, 424, 425, 426, 427, 428, 429, 430, 431, 432, 433, 434, 435, 436, 437, 438, 439, 440, 441, 442, 443, 444, 445, 446, 447, 448, 449, 450, 451, 452, 453, 454, 455, 456, 457, 458, 459, 460, 461, 462, 463, 464, 465, 466, 467, 468, 469, 470, 471, 472, 473, 474, 475, 476, 477, 478, 479, 480, 481, 482, 483, 484, 485, 486, 487, 488, 489, 490, 491, 492, 493, 494, 495, 496, 497, 498, 499, 3389]\n"
     ]
    }
   ],
   "source": [
    "port_range = [20, 21, 22, 23, 25, 53, 80, 137, 139, 443, 445, 3389]\n",
    "for i in port_range:\n",
    "        print(i)"
   ]
  },
  {
   "cell_type": "code",
   "execution_count": 1,
   "id": "a5d36c05",
   "metadata": {},
   "outputs": [],
   "source": [
    "port_range = [*range(22, 81)]"
   ]
  },
  {
   "cell_type": "code",
   "execution_count": 3,
   "id": "53a4c1bb",
   "metadata": {},
   "outputs": [
    {
     "name": "stdout",
     "output_type": "stream",
     "text": [
      "22\n",
      "23\n",
      "24\n",
      "25\n",
      "26\n",
      "27\n",
      "28\n",
      "29\n",
      "30\n",
      "31\n",
      "32\n",
      "33\n",
      "34\n",
      "35\n",
      "36\n",
      "37\n",
      "38\n",
      "39\n",
      "40\n",
      "41\n",
      "42\n",
      "43\n",
      "44\n",
      "45\n",
      "46\n",
      "47\n",
      "48\n",
      "49\n",
      "50\n",
      "51\n",
      "52\n",
      "53\n",
      "54\n",
      "55\n",
      "56\n",
      "57\n",
      "58\n",
      "59\n",
      "60\n",
      "61\n",
      "62\n",
      "63\n",
      "64\n",
      "65\n",
      "66\n",
      "67\n",
      "68\n",
      "69\n",
      "70\n",
      "71\n",
      "72\n",
      "73\n",
      "74\n",
      "75\n",
      "76\n",
      "77\n",
      "78\n",
      "79\n",
      "80\n"
     ]
    }
   ],
   "source": [
    "for i in port_range:\n",
    "        print(i)"
   ]
  },
  {
   "cell_type": "code",
   "execution_count": null,
   "id": "a08d55d5",
   "metadata": {},
   "outputs": [],
   "source": []
  }
 ],
 "metadata": {
  "kernelspec": {
   "display_name": "Python 3 (ipykernel)",
   "language": "python",
   "name": "python3"
  },
  "language_info": {
   "codemirror_mode": {
    "name": "ipython",
    "version": 3
   },
   "file_extension": ".py",
   "mimetype": "text/x-python",
   "name": "python",
   "nbconvert_exporter": "python",
   "pygments_lexer": "ipython3",
   "version": "3.9.13"
  }
 },
 "nbformat": 4,
 "nbformat_minor": 5
}
